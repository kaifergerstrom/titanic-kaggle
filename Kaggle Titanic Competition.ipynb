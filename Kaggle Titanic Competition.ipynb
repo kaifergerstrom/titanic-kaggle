{
 "cells": [
  {
   "cell_type": "code",
   "execution_count": 44,
   "metadata": {},
   "outputs": [],
   "source": [
    "import pandas as pd\n",
    "import numpy as np\n",
    "import matplotlib.pyplot as plt\n",
    "from sklearn import svm, preprocessing, linear_model, neighbors, tree\n",
    "from sklearn.model_selection import train_test_split"
   ]
  },
  {
   "cell_type": "code",
   "execution_count": 45,
   "metadata": {},
   "outputs": [],
   "source": [
    "### Important functions and variables\n",
    "\n",
    "features = ['Pclass', 'Sex', 'Age', 'SibSp', 'Parch', 'Fare', 'Cabin']\n",
    "\n",
    "\n",
    "def create_num_row(df, col):  # Convert string columns into numeric values. Returns dictionary \n",
    "    if df[col].dtype == np.object:\n",
    "        col_dict = {k: v for v, k in enumerate(df[col].unique())}\n",
    "        df[col] = df[col].map(col_dict)\n",
    "        \n",
    "        \n",
    "def create_df(filename):\n",
    "    df = pd.read_csv(filename)  # Open training data\n",
    "    df = df.dropna()  # Drop NaN columns\n",
    "    df['Cabin'] = df['Cabin'].astype(str).str[0]  # Isolate cabin row, remove number\n",
    "    return df"
   ]
  },
  {
   "cell_type": "code",
   "execution_count": 60,
   "metadata": {},
   "outputs": [],
   "source": [
    "### Create X and Y data\n",
    "\n",
    "df = create_df(\"data/train.csv\")\n",
    "\n",
    "for feature in features:\n",
    "    create_num_row(df, feature)\n",
    "\n",
    "X = df[features]\n",
    "y = df['Survived']\n",
    "\n",
    "X = preprocessing.scale(X)\n",
    "\n",
    "X_train, X_test, y_train, y_test = train_test_split(X, y, test_size=0.2)"
   ]
  },
  {
   "cell_type": "code",
   "execution_count": 61,
   "metadata": {},
   "outputs": [
    {
     "name": "stdout",
     "output_type": "stream",
     "text": [
      "SVM Accuracy: 81.08108108108108\n"
     ]
    }
   ],
   "source": [
    "### Support Vector Machine\n",
    "\n",
    "clf = svm.SVC()\n",
    "clf.fit(X_train, y_train)\n",
    "y_pred = clf.predict(X_test)\n",
    "accuracy = clf.score(X_test, y_test)\n",
    "\n",
    "print(\"SVM Accuracy: {}\".format(accuracy * 100))"
   ]
  },
  {
   "cell_type": "code",
   "execution_count": 62,
   "metadata": {},
   "outputs": [
    {
     "name": "stdout",
     "output_type": "stream",
     "text": [
      "Logistic Regression Accuracy: 75.67567567567568\n"
     ]
    }
   ],
   "source": [
    "### Logistic Regression\n",
    "\n",
    "clf = linear_model.LogisticRegression(n_jobs=-1)\n",
    "clf.fit(X_train, y_train)\n",
    "y_pred = clf.predict(X_test)\n",
    "accuracy = clf.score(X_test, y_test)\n",
    "\n",
    "print(\"Logistic Regression Accuracy: {}\".format(accuracy * 100))"
   ]
  },
  {
   "cell_type": "code",
   "execution_count": 63,
   "metadata": {},
   "outputs": [
    {
     "name": "stdout",
     "output_type": "stream",
     "text": [
      "K Nearest Neighbors Accuracy: 81.08108108108108\n"
     ]
    }
   ],
   "source": [
    "### K Nearest Neighbors\n",
    "\n",
    "clf = neighbors.KNeighborsClassifier(n_neighbors=5)\n",
    "clf.fit(X_train, y_train)\n",
    "y_pred = clf.predict(X_test)\n",
    "accuracy = clf.score(X_test, y_test)\n",
    "\n",
    "print(\"K Nearest Neighbors Accuracy: {}\".format(accuracy * 100))"
   ]
  },
  {
   "cell_type": "code",
   "execution_count": 64,
   "metadata": {},
   "outputs": [
    {
     "name": "stdout",
     "output_type": "stream",
     "text": [
      "Decision Tree Accuracy: 91.8918918918919\n"
     ]
    }
   ],
   "source": [
    "### Decision Tree\n",
    "\n",
    "clf = tree.DecisionTreeClassifier()\n",
    "clf.fit(X_train, y_train)\n",
    "y_pred = clf.predict(X_test)\n",
    "accuracy = clf.score(X_test, y_test)\n",
    "\n",
    "print(\"Decision Tree Accuracy: {}\".format(accuracy * 100))"
   ]
  },
  {
   "cell_type": "code",
   "execution_count": null,
   "metadata": {},
   "outputs": [],
   "source": []
  }
 ],
 "metadata": {
  "kernelspec": {
   "display_name": "Python 3",
   "language": "python",
   "name": "python3"
  },
  "language_info": {
   "codemirror_mode": {
    "name": "ipython",
    "version": 3
   },
   "file_extension": ".py",
   "mimetype": "text/x-python",
   "name": "python",
   "nbconvert_exporter": "python",
   "pygments_lexer": "ipython3",
   "version": "3.6.9"
  }
 },
 "nbformat": 4,
 "nbformat_minor": 2
}
